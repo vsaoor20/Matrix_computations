{
  "nbformat": 4,
  "nbformat_minor": 0,
  "metadata": {
    "colab": {
      "name": "Cholesky Decomposition.ipynb",
      "provenance": [],
      "collapsed_sections": []
    },
    "kernelspec": {
      "name": "python3",
      "display_name": "Python 3"
    },
    "language_info": {
      "name": "python"
    }
  },
  "cells": [
    {
      "cell_type": "markdown",
      "source": [
        "#Cholesky Decomposition"
      ],
      "metadata": {
        "id": "4_VtkcT3x77N"
      }
    },
    {
      "cell_type": "markdown",
      "source": [
        "Let A be a \"Positive Definite\" matrix, then Matrix A can be decomposed into a product of two matrix as shown below:\n",
        "$$A = R^{T} R$$\n",
        "The matrix $R$ is an Upper Triangular Matrix. The Matrix $R$ is called as Cholesky Factor.\n",
        "The elements of the $R$ matrix are given by the following formulas\n",
        "$$\n",
        "r_{ii} = \\sqrt{a_{ii} - \\Sigma^{i-1}_{k=1} r^{2}_{ki}}\n",
        "$$\n",
        "\n",
        "\n",
        "$$\n",
        "r_{ji} = \\frac{a_{ji} - \\Sigma^{i-1}_{k=1} r_{ik} r_{jk}}{r_{ii}}\n",
        "$$\n",
        "\n",
        "For Cholesky decomposition we would need $\\frac{1}{3} n^3$ flops"
      ],
      "metadata": {
        "id": "Zcghaehh1gw6"
      }
    },
    {
      "cell_type": "code",
      "source": [
        "#Question 1:\n",
        "#Cholesky Algorithm\n",
        "import math\n",
        "import numpy as np\n",
        "def Cholesky(a):\n",
        "    '''\n",
        "    Functions returns the R matrix (also its Transpose) which is also called as the cholesky factor\n",
        "    Inputs: A symmetric Matrix (n x n)\n",
        "    Outputs: Returns A Upper triangular and Lower triangular matrix if the matrix is Positive Definite\n",
        "             Or returns 'None' if the matrix is not Positive Definite\n",
        "    '''\n",
        "    n=len(a)\n",
        "    R=np.zeros((n,n))\n",
        "    for i in range(0,n):                          #Loop to iterate through the rows\n",
        "        add=0\n",
        "        for k in range(0,i):                      \n",
        "            add+=(R[i][k])**2\n",
        "        if(a[i][i] - add <= 0):\n",
        "            print('Error: Matrix is not \"Positive Definite\"')\n",
        "            return None \n",
        "        R[i][i] = math.sqrt(a[i][i] - add)        #Calculating the diagonal element of R matrix\n",
        "        for j in range(i+1,n):                    #loop is used calculate the lower triangulare elements of R matrix\n",
        "            add=0\n",
        "            for k in range(0,i):\n",
        "                add+= (R[i][k] * R[j][k])\n",
        "            R[j][i] = (a[j][i] - add)/R[i][i]\n",
        "    \n",
        "    #Transposing the R Matrix\n",
        "    RT=np.zeros((n,n))\n",
        "    for i in range(n):\n",
        "        for j in range(n):\n",
        "            RT[j][i]=R[i][j]\n",
        "    return R, RT"
      ],
      "metadata": {
        "id": "l9QwtPsEafX_"
      },
      "execution_count": null,
      "outputs": []
    },
    {
      "cell_type": "markdown",
      "source": [
        "####Forward Substitution"
      ],
      "metadata": {
        "id": "6z5o-W8wyDHE"
      }
    },
    {
      "cell_type": "markdown",
      "source": [
        "Consider,\n",
        "$$ Gx=b $$\n",
        "The matrix G is said to be a Lower Triangular matrix if $g_{ij} =0 \\space \\space ∀ i<j $ \n"
      ],
      "metadata": {
        "id": "CIaC85JWoK-m"
      }
    },
    {
      "cell_type": "markdown",
      "source": [
        "The following formula is used to solve the Triangular system\n",
        "$$\n",
        "b_i = \\frac{b_i - \\Sigma^{i}_{j=1} g_{ij}b_{j}}{g_{ii}}\n",
        "$$\n",
        "For Lower Triangular matrix flops taken are $n^{2}$"
      ],
      "metadata": {
        "id": "UX1rUK-0qmHG"
      }
    },
    {
      "cell_type": "code",
      "execution_count": null,
      "metadata": {
        "id": "PIfmPaN4wUmm"
      },
      "outputs": [],
      "source": [
        "#Question 2:\n",
        "#Forward substitution is used for solving lower tirangular matrix\n",
        "def Forward_subs(g,b):\n",
        "    '''\n",
        "    Function is used to solve the lower triangular matrix using forward substitution\n",
        "    Inputs: Two Matrix g and b, where g is a square matrix\n",
        "    Outputs: Matrix b or returns 'None' if any of the diagonal element(g[i][i]) is zero \n",
        "    '''\n",
        "    n=len(b)\n",
        "    for i in range(0,n):               #loop to iterate through rows\n",
        "        add=0              \n",
        "        for j in range(0,i):           #loop to iterate through columns\n",
        "            add+=g[i][j] * b[j]\n",
        "        if(g[i][i] == 0):              #Checks if the diagonal element is zero as division by zero is not possible\n",
        "            return None\n",
        "        else:\n",
        "            b[i]=(b[i]-add)/g[i][i]\n",
        "    return b"
      ]
    },
    {
      "cell_type": "markdown",
      "source": [
        "####Backward Substitution"
      ],
      "metadata": {
        "id": "tkRSUOKeyRmz"
      }
    },
    {
      "cell_type": "markdown",
      "source": [
        "Consider,\n",
        "$$ Gx=b $$\n",
        "The matrix G is said to be a Upper Triangular matrix if $g_{ij} =0 \\space \\space ∀ i>j $ \n"
      ],
      "metadata": {
        "id": "DoXk-svSuRkh"
      }
    },
    {
      "cell_type": "markdown",
      "source": [
        "The same formula is used for Upper Triangular matrix only the propagation through the matrix is different. For solving the Upper Triangular matrix the flops taken are $n^2$"
      ],
      "metadata": {
        "id": "X4x6YX_7uYu_"
      }
    },
    {
      "cell_type": "code",
      "source": [
        "#Question 2: Contd...\n",
        "#Backward substitution is used for solving upper triangular matrix\n",
        "def Backward_subs(g,b):\n",
        "    '''\n",
        "    Function is used to solve the upper triangular matrix using backward susbstitution\n",
        "    Inputs: Two Matrix g and b, where g is a square matrix\n",
        "    Outputs: Matrix b or returns 'None' if any of the diagonal element(g[i][i]) is zero \n",
        "    '''\n",
        "    n=len(b)\n",
        "    for i in range(n-1,-1,-1):               #loop to iterate through rows starting from last row\n",
        "        add=0\n",
        "        for j in range(n-1,i,-1):            #loop to iterate through columns starting from last column\n",
        "            add+=g[i][j] * b[j]\n",
        "        if(g[i][i] == 0):                    #Checking if diagonal element is zero as division by zero is not possible\n",
        "            return None\n",
        "        else:\n",
        "            b[i]=(b[i]-add)/g[i][i]\n",
        "    return b"
      ],
      "metadata": {
        "id": "ixbbz-lwwdB0"
      },
      "execution_count": null,
      "outputs": []
    },
    {
      "cell_type": "markdown",
      "source": [
        "####Linear System"
      ],
      "metadata": {
        "id": "nE05ynU4ngpo"
      }
    },
    {
      "cell_type": "markdown",
      "source": [
        "Let us consider a Linear system $Ax=b$. If the matrix $A$ is a positive definite matrix then Cholesky Decompsition can be used to solve the Linear System as follows,\n",
        "$$\n",
        "Ax=b\n",
        "$$\n",
        "The Matrix A can be decomposed into the following $R$ matrix as shown.\n",
        "$$\n",
        " A=R^TR\n",
        "$$\n",
        "Substituting it into the above equation we get\n",
        "$$\n",
        "R^TRx=b\n",
        "$$\n",
        "put, $$ Rx = y $$\n",
        "We get,\n",
        "$$\n",
        "\\\\ Ry=b\n",
        "\\\\R^Tx=y\n",
        "$$"
      ],
      "metadata": {
        "id": "ygQRsCk4sKr5"
      }
    },
    {
      "cell_type": "code",
      "source": [
        "#Question 3:\n",
        "def Linear(A,b):\n",
        "    if(Cholesky(A) is None):\n",
        "        print(\"Execution Terminated\")\n",
        "    else: \n",
        "        R,RT=Cholesky(A)\n",
        "        y=Forward_subs(R,b)\n",
        "        x=Backward_subs(RT,y)\n",
        "        print(\"Solution: \\n\",flush=True)\n",
        "        print(x)"
      ],
      "metadata": {
        "id": "9SoekHcViN6J"
      },
      "execution_count": null,
      "outputs": []
    },
    {
      "cell_type": "code",
      "source": [
        "#Question 3: Contd..\n",
        "n=int(input(\"Enter the value of n [Dimension of A (nxn)]: \"))\n",
        "\n",
        "A=np.zeros((n,n))\n",
        "print(\"Enter the values of A\",flush=True)\n",
        "print(\"Input Element Row-wise\",flush=True)\n",
        "for i in range(n):\n",
        "    for j in range(n):\n",
        "        A[i][j]=int(input())\n",
        "\n",
        "b=np.zeros(n)\n",
        "print(\"Enter the value of B\")\n",
        "for i in range(n):\n",
        "    b[i]=int(input())\n",
        "\n",
        "Linear(A,b)"
      ],
      "metadata": {
        "colab": {
          "base_uri": "https://localhost:8080/"
        },
        "id": "auDJJ_ezwq_k",
        "outputId": "6dce3aad-76bf-4367-a284-1e31211eefaf"
      },
      "execution_count": null,
      "outputs": [
        {
          "output_type": "stream",
          "name": "stdout",
          "text": [
            "Enter the value of n [Dimension of A (nxn)]: 3\n",
            "Enter the values of A\n",
            "Input Element Row-wise\n",
            "6\n",
            "15\n",
            "55\n",
            "15\n",
            "55\n",
            "225\n",
            "55\n",
            "225\n",
            "979\n",
            "Enter the value of B\n",
            "76\n",
            "295\n",
            "1259\n",
            "Solution: \n",
            "\n",
            "[1. 1. 1.]\n"
          ]
        }
      ]
    },
    {
      "cell_type": "code",
      "source": [
        ""
      ],
      "metadata": {
        "id": "QW4MmI5cau-i"
      },
      "execution_count": null,
      "outputs": []
    }
  ]
}